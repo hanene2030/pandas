{
  "nbformat": 4,
  "nbformat_minor": 0,
  "metadata": {
    "colab": {
      "name": "5-inspecting-dataframes.ipynb",
      "provenance": [],
      "authorship_tag": "ABX9TyPqHEaz87QLkWGPYpTqasfi",
      "include_colab_link": true
    },
    "kernelspec": {
      "name": "python3",
      "display_name": "Python 3"
    },
    "language_info": {
      "name": "python"
    }
  },
  "cells": [
    {
      "cell_type": "markdown",
      "metadata": {
        "id": "view-in-github",
        "colab_type": "text"
      },
      "source": [
        "<a href=\"https://colab.research.google.com/github/hanene2030/pandas/blob/main/5_inspecting_dataframes.ipynb\" target=\"_parent\"><img src=\"https://colab.research.google.com/assets/colab-badge.svg\" alt=\"Open In Colab\"/></a>"
      ]
    },
    {
      "cell_type": "markdown",
      "source": [
        "# Inspecting dataframes"
      ],
      "metadata": {
        "id": "cmmkeJupisLp"
      }
    },
    {
      "cell_type": "code",
      "execution_count": null,
      "metadata": {
        "id": "X-VbvmzMirQV"
      },
      "outputs": [],
      "source": [
        ""
      ]
    }
  ]
}